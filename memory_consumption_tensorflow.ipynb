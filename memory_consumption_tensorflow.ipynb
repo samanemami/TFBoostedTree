{
  "nbformat": 4,
  "nbformat_minor": 0,
  "metadata": {
    "kernelspec": {
      "language": "python",
      "display_name": "Python 3",
      "name": "python3"
    },
    "language_info": {
      "name": "python",
      "version": "3.7.10",
      "mimetype": "text/x-python",
      "codemirror_mode": {
        "name": "ipython",
        "version": 3
      },
      "pygments_lexer": "ipython3",
      "nbconvert_exporter": "python",
      "file_extension": ".py"
    },
    "colab": {
      "name": "memory-consumption-tensorflow.ipynb",
      "provenance": [],
      "include_colab_link": true
    }
  },
  "cells": [
    {
      "cell_type": "markdown",
      "metadata": {
        "id": "view-in-github",
        "colab_type": "text"
      },
      "source": [
        "<a href=\"https://colab.research.google.com/github/samanemami/TFBoostedTree/blob/main/memory_consumption_tensorflow.ipynb\" target=\"_parent\"><img src=\"https://colab.research.google.com/assets/colab-badge.svg\" alt=\"Open In Colab\"/></a>"
      ]
    },
    {
      "cell_type": "markdown",
      "metadata": {
        "id": "ctDHs9heG4U4"
      },
      "source": [
        "# Import Libraries"
      ]
    },
    {
      "cell_type": "code",
      "metadata": {
        "_uuid": "8f2839f25d086af736a60e9eeb907d3b93b6e0e5",
        "_cell_guid": "b1076dfc-b9ad-4769-8c92-a6c4dae69d19",
        "execution": {
          "iopub.status.busy": "2021-09-20T12:07:06.294264Z",
          "iopub.execute_input": "2021-09-20T12:07:06.294558Z",
          "iopub.status.idle": "2021-09-20T12:07:06.301653Z",
          "shell.execute_reply.started": "2021-09-20T12:07:06.294524Z",
          "shell.execute_reply": "2021-09-20T12:07:06.299902Z"
        },
        "trusted": true,
        "id": "kNWsLAN_G4U5"
      },
      "source": [
        "import tracemalloc\n",
        "import numpy as np\n",
        "import pandas as pd\n",
        "import tensorflow as tf\n",
        "import matplotlib.pyplot as plt\n",
        "from IPython.display import clear_output"
      ],
      "execution_count": null,
      "outputs": []
    },
    {
      "cell_type": "markdown",
      "metadata": {
        "id": "uceE8RMuG4U6"
      },
      "source": [
        "# Import dataset"
      ]
    },
    {
      "cell_type": "code",
      "metadata": {
        "execution": {
          "iopub.status.busy": "2021-09-20T11:46:35.893257Z",
          "iopub.execute_input": "2021-09-20T11:46:35.893564Z",
          "iopub.status.idle": "2021-09-20T11:46:35.920001Z",
          "shell.execute_reply.started": "2021-09-20T11:46:35.893531Z",
          "shell.execute_reply": "2021-09-20T11:46:35.919191Z"
        },
        "trusted": true,
        "id": "iNjQgvBCG4U6",
        "outputId": "95e5c4d0-ee43-4462-be41-410ea2e12060"
      },
      "source": [
        "df = pd.read_csv('../input/heart-disease-uci/heart.csv')\n",
        "df.head()"
      ],
      "execution_count": null,
      "outputs": [
        {
          "execution_count": 3,
          "output_type": "execute_result",
          "data": {
            "text/plain": "   age  sex  cp  trestbps  chol  fbs  restecg  thalach  exang  oldpeak  slope  \\\n0   63    1   3       145   233    1        0      150      0      2.3      0   \n1   37    1   2       130   250    0        1      187      0      3.5      0   \n2   41    0   1       130   204    0        0      172      0      1.4      2   \n3   56    1   1       120   236    0        1      178      0      0.8      2   \n4   57    0   0       120   354    0        1      163      1      0.6      2   \n\n   ca  thal  target  \n0   0     1       1  \n1   0     2       1  \n2   0     2       1  \n3   0     2       1  \n4   0     2       1  ",
            "text/html": "<div>\n<style scoped>\n    .dataframe tbody tr th:only-of-type {\n        vertical-align: middle;\n    }\n\n    .dataframe tbody tr th {\n        vertical-align: top;\n    }\n\n    .dataframe thead th {\n        text-align: right;\n    }\n</style>\n<table border=\"1\" class=\"dataframe\">\n  <thead>\n    <tr style=\"text-align: right;\">\n      <th></th>\n      <th>age</th>\n      <th>sex</th>\n      <th>cp</th>\n      <th>trestbps</th>\n      <th>chol</th>\n      <th>fbs</th>\n      <th>restecg</th>\n      <th>thalach</th>\n      <th>exang</th>\n      <th>oldpeak</th>\n      <th>slope</th>\n      <th>ca</th>\n      <th>thal</th>\n      <th>target</th>\n    </tr>\n  </thead>\n  <tbody>\n    <tr>\n      <th>0</th>\n      <td>63</td>\n      <td>1</td>\n      <td>3</td>\n      <td>145</td>\n      <td>233</td>\n      <td>1</td>\n      <td>0</td>\n      <td>150</td>\n      <td>0</td>\n      <td>2.3</td>\n      <td>0</td>\n      <td>0</td>\n      <td>1</td>\n      <td>1</td>\n    </tr>\n    <tr>\n      <th>1</th>\n      <td>37</td>\n      <td>1</td>\n      <td>2</td>\n      <td>130</td>\n      <td>250</td>\n      <td>0</td>\n      <td>1</td>\n      <td>187</td>\n      <td>0</td>\n      <td>3.5</td>\n      <td>0</td>\n      <td>0</td>\n      <td>2</td>\n      <td>1</td>\n    </tr>\n    <tr>\n      <th>2</th>\n      <td>41</td>\n      <td>0</td>\n      <td>1</td>\n      <td>130</td>\n      <td>204</td>\n      <td>0</td>\n      <td>0</td>\n      <td>172</td>\n      <td>0</td>\n      <td>1.4</td>\n      <td>2</td>\n      <td>0</td>\n      <td>2</td>\n      <td>1</td>\n    </tr>\n    <tr>\n      <th>3</th>\n      <td>56</td>\n      <td>1</td>\n      <td>1</td>\n      <td>120</td>\n      <td>236</td>\n      <td>0</td>\n      <td>1</td>\n      <td>178</td>\n      <td>0</td>\n      <td>0.8</td>\n      <td>2</td>\n      <td>0</td>\n      <td>2</td>\n      <td>1</td>\n    </tr>\n    <tr>\n      <th>4</th>\n      <td>57</td>\n      <td>0</td>\n      <td>0</td>\n      <td>120</td>\n      <td>354</td>\n      <td>0</td>\n      <td>1</td>\n      <td>163</td>\n      <td>1</td>\n      <td>0.6</td>\n      <td>2</td>\n      <td>0</td>\n      <td>2</td>\n      <td>1</td>\n    </tr>\n  </tbody>\n</table>\n</div>"
          },
          "metadata": {}
        }
      ]
    },
    {
      "cell_type": "markdown",
      "metadata": {
        "id": "fCO5JNH3G4U7"
      },
      "source": [
        "# Preparing the inputs of the model"
      ]
    },
    {
      "cell_type": "code",
      "metadata": {
        "execution": {
          "iopub.status.busy": "2021-09-20T11:51:06.978605Z",
          "iopub.execute_input": "2021-09-20T11:51:06.978924Z",
          "iopub.status.idle": "2021-09-20T11:51:06.984546Z",
          "shell.execute_reply.started": "2021-09-20T11:51:06.978888Z",
          "shell.execute_reply": "2021-09-20T11:51:06.983977Z"
        },
        "trusted": true,
        "id": "3GB7a3v4G4U7"
      },
      "source": [
        "X = df.drop('target',axis = 1)\n",
        "y = df['target']"
      ],
      "execution_count": null,
      "outputs": []
    },
    {
      "cell_type": "code",
      "metadata": {
        "execution": {
          "iopub.status.busy": "2021-09-20T11:54:50.281537Z",
          "iopub.execute_input": "2021-09-20T11:54:50.282265Z",
          "iopub.status.idle": "2021-09-20T11:54:50.289711Z",
          "shell.execute_reply.started": "2021-09-20T11:54:50.282222Z",
          "shell.execute_reply": "2021-09-20T11:54:50.288708Z"
        },
        "trusted": true,
        "id": "0tEbZNKdG4U7"
      },
      "source": [
        "feature = []\n",
        "for i in range(len(X.columns)):\n",
        "    feature.append(str(i))\n",
        "\n",
        "col_rename = {i: j for i, j in zip(X.columns, feature)}\n",
        "X = X.rename(columns=col_rename, inplace=False)\n",
        "X = X.astype(\"int64\")\n",
        "y = y.astype(\"int64\")"
      ],
      "execution_count": null,
      "outputs": []
    },
    {
      "cell_type": "code",
      "metadata": {
        "execution": {
          "iopub.status.busy": "2021-09-20T11:55:04.140829Z",
          "iopub.execute_input": "2021-09-20T11:55:04.141268Z",
          "iopub.status.idle": "2021-09-20T11:55:04.146205Z",
          "shell.execute_reply.started": "2021-09-20T11:55:04.141241Z",
          "shell.execute_reply": "2021-09-20T11:55:04.145273Z"
        },
        "trusted": true,
        "id": "WFJzUWqLG4U7"
      },
      "source": [
        "def _make_input_fn(X, y, n_epochs=None, shuffle=True):\n",
        "    def input_fn():\n",
        "        NUM_EXAMPLES = len(y)\n",
        "        dataset = tf.data.Dataset.from_tensor_slices((dict(X), y))\n",
        "        if shuffle:\n",
        "            dataset = dataset.shuffle(NUM_EXAMPLES)\n",
        "        # For training, cycle thru dataset as many times as need (n_epochs=None).\n",
        "        dataset = dataset.repeat(n_epochs)\n",
        "        # In memory training doesn't use batching.\n",
        "        dataset = dataset.batch(NUM_EXAMPLES)\n",
        "        return dataset\n",
        "    return input_fn"
      ],
      "execution_count": null,
      "outputs": []
    },
    {
      "cell_type": "code",
      "metadata": {
        "execution": {
          "iopub.status.busy": "2021-09-20T11:55:51.618085Z",
          "iopub.execute_input": "2021-09-20T11:55:51.618492Z",
          "iopub.status.idle": "2021-09-20T11:55:51.624841Z",
          "shell.execute_reply.started": "2021-09-20T11:55:51.618453Z",
          "shell.execute_reply": "2021-09-20T11:55:51.623954Z"
        },
        "trusted": true,
        "id": "BV7F5DkcG4U8"
      },
      "source": [
        "train_input_fn = _make_input_fn(X, y)\n",
        "\n",
        "num_columns = feature\n",
        "feature_columns = []\n",
        "n_classes = len(np.unique(y))\n",
        "\n",
        "for feature_name in num_columns:\n",
        "    feature_columns.append(tf.feature_column.numeric_column(feature_name,\n",
        "                                                            dtype=tf.float32))"
      ],
      "execution_count": null,
      "outputs": []
    },
    {
      "cell_type": "markdown",
      "metadata": {
        "id": "O4VISnsGG4U8"
      },
      "source": [
        "# Define the model"
      ]
    },
    {
      "cell_type": "code",
      "metadata": {
        "execution": {
          "iopub.status.busy": "2021-09-20T12:02:54.829463Z",
          "iopub.execute_input": "2021-09-20T12:02:54.829756Z",
          "iopub.status.idle": "2021-09-20T12:07:06.292566Z",
          "shell.execute_reply.started": "2021-09-20T12:02:54.829725Z",
          "shell.execute_reply": "2021-09-20T12:07:06.291533Z"
        },
        "trusted": true,
        "id": "pdq5ybY1G4U8"
      },
      "source": [
        "T = 100\n",
        "step = 1\n",
        "t = range(1, T + 1, step)\n",
        "mem = np.zeros((T,))\n",
        "for i, tree in enumerate(t):\n",
        "    tracemalloc.start()\n",
        "    tracemalloc.clear_traces()\n",
        "    zero_size = tracemalloc.get_traced_memory()[0]\n",
        "\n",
        "    est = tf.estimator.BoostedTreesClassifier(feature_columns,\n",
        "                                              n_batches_per_layer=1,\n",
        "                                              n_classes=n_classes,\n",
        "                                              n_trees=tree,\n",
        "                                              max_depth=5,\n",
        "                                              learning_rate=0.1,\n",
        "                                              label_vocabulary=None,\n",
        "                                              center_bias=False\n",
        "                                              )\n",
        "    est.train(train_input_fn, max_steps=None,\n",
        "              steps=100)\n",
        "    mem[i] = tracemalloc.get_traced_memory()[0] - zero_size\n",
        "    clear_output()"
      ],
      "execution_count": null,
      "outputs": []
    },
    {
      "cell_type": "markdown",
      "metadata": {
        "id": "3J20ezz4G4U9"
      },
      "source": [
        "# Memory usage"
      ]
    },
    {
      "cell_type": "code",
      "metadata": {
        "execution": {
          "iopub.status.busy": "2021-09-20T12:07:14.367098Z",
          "iopub.execute_input": "2021-09-20T12:07:14.367848Z",
          "iopub.status.idle": "2021-09-20T12:07:14.634348Z",
          "shell.execute_reply.started": "2021-09-20T12:07:14.367797Z",
          "shell.execute_reply": "2021-09-20T12:07:14.633252Z"
        },
        "trusted": true,
        "id": "cH-kxBG-G4U9",
        "outputId": "76e5e269-be49-41f7-eacf-8dedcace1261"
      },
      "source": [
        "fig, ax1 = plt.subplots()\n",
        "ax1.set_xlabel(\"Booosting iteration\")\n",
        "ax1.set_ylabel(\"Memory usage (in MB)\")\n",
        "ln1 = ax1.plot(range(1, T + 1), mem, color='black',\n",
        "               linewidth=1, drawstyle=\"steps-mid\")\n",
        "plt.title(\"Recorded used memory blocks - Dataset: iris\")\n",
        "plt.grid(True, linewidth=1, color='gainsboro', alpha=0.5)"
      ],
      "execution_count": null,
      "outputs": [
        {
          "output_type": "display_data",
          "data": {
            "text/plain": "<Figure size 432x288 with 1 Axes>",
            "image/png": "[encoded data removed]"
          },
          "metadata": {
            "needs_background": "light"
          }
        }
      ]
    }
  ]
}